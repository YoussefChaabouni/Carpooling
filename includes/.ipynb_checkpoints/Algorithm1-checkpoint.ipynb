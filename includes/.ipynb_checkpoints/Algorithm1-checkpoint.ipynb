{
 "cells": [
  {
   "cell_type": "markdown",
   "metadata": {},
   "source": [
    "# Algorithms"
   ]
  },
  {
   "cell_type": "code",
   "execution_count": 1,
   "metadata": {},
   "outputs": [],
   "source": [
    "import random\n",
    "from graphClasses import Trajectory, Graph, Vertex, MeetingPointsHandler\n",
    "from personClasses import SetOfPersons, Rider, Driver\n",
    "from plotMap import PLOTMap\n",
    "import math\n",
    "\n",
    "from datetime import time\n",
    "from datetime import timedelta"
   ]
  },
  {
   "cell_type": "markdown",
   "metadata": {},
   "source": [
    "## Algorithm 1"
   ]
  },
  {
   "cell_type": "code",
   "execution_count": 2,
   "metadata": {},
   "outputs": [],
   "source": [
    "\n",
    "def driver_journey_generator(origin, destination, meeting_point_closest_origin, meeting_point_closest_destination,station_closest_origin, station_closest_destination, driver, time_driver_starts):\n",
    "    journey_driver=Trajectory()\n",
    "    driver.set_trajectory(journey_driver)\n",
    "    journey_driver.set_vertex_order({origin, meeting_point_closest_origin, meeting_point_closest_destination, destination })\n",
    "    origin.add_time_driver(driver.id,time(0,0), time_driver_starts)\n",
    "    r=random.uniform(0,1)\n",
    "    \n",
    "    if r<0.5 : \n",
    "        ## Try to add a detour close to the origin\n",
    "        if Graph.distance(meeting_point_closest_origin,station_closest_origin)+Graph.distance(station_closest_origin, meeting_point_closest_destination)<=1.15*Graph.distance(meeting_point_closest_origin,meeting_point_closest_destination):\n",
    "            ## Add a detour through station_closest_origin\n",
    "            journey_driver.set_vertex_order({origin, meeting_point_closest_origin,station_closest_origin, meeting_point_closest_destination, destination })\n",
    "            \n",
    "            if Graph.distance(meeting_point_closest_origin,station_closest_origin)+Graph.distance(station_closest_origin,station_closest_destination)+Graph.distance(station_closest_destination, meeting_point_closest_destination)<=1.15*Graph.distance(meeting_point_closest_origin,meeting_point_closest_destination):\n",
    "                ##Also add a detour through the station close to the driver\n",
    "                journey_driver.set_vertex_order({origin, meeting_point_closest_origin,station_closest_origin, station_closest_destination, meeting_point_closest_destination, destination })\n",
    "    else:\n",
    "        ##Try to add a detour close to the destination\n",
    "        if Graph.distance(meeting_point_closest_origin,station_closest_destination)+Graph.distance(station_closest_destination, meeting_point_closest_destination)<=1.15*Graph.distance(meeting_point_closest_origin,meeting_point_closest_destination): \n",
    "            ##Add a detour through station_closest_destination\n",
    "            journey_driver.set_vertex_order({origin, meeting_point_closest_origin, station_closest_destination, meeting_point_closest_destination, destination })\n",
    "            \n",
    "            if Graph.distance(meeting_point_closest_origin,station_closest_origin)+Graph.distance(station_closest_origi,station_closest_destination)+Graph.distance(station_closest_destination, meeting_point_closest_destination)<=1.15*Graph.distance(meeting_point_closest_origin,meeting_point_closest_destination):\n",
    "                ##Also add a detour through the station close to the driver destination.\n",
    "                journey_driver.set_vertex_order({origin, meeting_point_closest_origin,station_closest_origin, station_closest_destination, meeting_point_closest_destination, destination })\n",
    "    \n",
    "    ### set the journey's stops' time ###\n",
    "    List_mps=[]\n",
    "    ''''\n",
    "    for v in journey_driver.get_vertex_order().keys():\n",
    "        List_mps.append(v)\n",
    "    for i in range(1,len(List_mps)):\n",
    "        arrival_time=journey_driver.get_vertex_order()[List_mps[i-1]].get_depart_time(driver.id)\n",
    "        print(arrival_time)\n",
    "        arrival_time.minute+Graph.distance(journey_driver.get_vertex_order()[List_mps[i-1]],journey_driver.get_vertex_order()[List_mps[i]])/journey_driver.get_car_speed()\n",
    "        depart_time=journey_driver.get_vertex_order()[List_mps[i-1]].get_arrival_time(driver.id)\n",
    "        depart_time.minute+1\n",
    "        journey_driver.get_vertex_order()[List_mps[i]].add_time_driver(driver.id,arrival_time, depart_time)\n",
    "    '''\n",
    "    ### The journey's duration in minutes ###\n",
    "    '''\n",
    "    date = datetime.date(1, 1, 1)\n",
    "    datetime1 = datetime.datetime.combine(date, journey_driver.get_vertex_order()[List_mps[len(List_mps)-1]].get_arrival_time(driver.id))\n",
    "    datetime2 = datetime.datetime.combine(date, time_driver_starts)\n",
    "    time_travel = datetime2 - datetime1\n",
    "    '''\n",
    "    return journey_driver\n",
    "\n"
   ]
  },
  {
   "cell_type": "code",
   "execution_count": 3,
   "metadata": {},
   "outputs": [
    {
     "data": {
      "text/plain": [
       "datetime.time(0, 0)"
      ]
     },
     "execution_count": 3,
     "metadata": {},
     "output_type": "execute_result"
    }
   ],
   "source": [
    "L={\"e\":[5], 4:[]}\n",
    "L.get(\"e\").remove(5)\n",
    "L[\"e\"]=4\n",
    "L[5]=3\n",
    "L[5]\n",
    "L[\"r\"]=4\n",
    "L\n",
    "time()\n"
   ]
  },
  {
   "cell_type": "markdown",
   "metadata": {},
   "source": [
    "## Algorithm 2"
   ]
  },
  {
   "cell_type": "code",
   "execution_count": 4,
   "metadata": {},
   "outputs": [],
   "source": [
    "def arrival_time_of_rider(start_location, end_location, time_start_location, driver, meeting_point_start, meeting_point_end):\n",
    "    rider_arrival_time= math.inf \n",
    "    wainting_time_rider=math.inf\n",
    "    walking_distance_rider=math.inf\n",
    "    \n",
    "    ##Check if there is a seat available\n",
    "    for v in driver.get_trajectory().get_vertex_order():\n",
    "        if driver.available_places(v,meeting_point_end)>0:\n",
    "            return driver.get_name()+\"has no available places\"\n",
    "    \n",
    "    rider_arrival_time=time_start_location+Graph.disctance(start_location,meeting_point_start)/Trajectory.get_walking_speed()\n",
    "    walking_distance_rider=Graph.disctance(start_location,meeting_point_start)\n",
    "    if rider_arrival_time>meeting_point_start.depart_time:\n",
    "        return \"the rider arrives a bit late\"\n",
    "    \n",
    "    else:\n",
    "        \n",
    "        waiting_time_rider=walking_distance_rider/Trajectory.get_car_speed() -walking_time_meeting_point_start\n",
    "        rider_arrival_time=meeting_point_end.arrival_time\n",
    "        walking_distance_rider+=Graph.disctance(end_location, meeting_point_end)\n",
    "        rider_arrival_time+=Graph.disctance(end_location,meeting_point_end)/Trajectory.get_walking_speed()\n",
    "    \n",
    "    return waiting_time_rider, walking_distance_rider, rider_arrival_time\n",
    "    "
   ]
  },
  {
   "cell_type": "markdown",
   "metadata": {},
   "source": [
    "## Algorithm 3"
   ]
  },
  {
   "cell_type": "code",
   "execution_count": 5,
   "metadata": {},
   "outputs": [],
   "source": [
    "def driver_selection_in_only_carpooling(setOfDrivers, rider, time_start, graph):\n",
    "    rider_arrival_time1= math.inf \n",
    "    wainting_time_rider1=math.inf\n",
    "    walking_distance_rider1=math.inf\n",
    "    NearStationMeetingpoints=graph.get_mpHandler().get_meetingpoints()\n",
    "    \n",
    "    #In the Only Carpooling option, a rider and a driver can carpool only if they have the same origin and destination meeting points\n",
    "    for driver in setOfDrivers:\n",
    "        if graph.get_neighborstationmp(NearStationMeetingpoints, origin)[0]==graph.get_neighborstationmp(NearStationMeetingpoints, driver.get_origin())[0]:\n",
    "            waiting_time_rider, wainting_time_rider, rider_arrival_time=arrival_time_of_rider(rider.get_origin(), rider.get_destination, time_start, driver, meeting_point_start, meeting_point_end)\n",
    "            if waiting_time_rider<=45 and walking_distance_rider<=2.5 and rider_arrival_time<=rider_arrival_time1:\n",
    "                rider_arrival_time1=rider_arrival_time\n",
    "                wainting_time_rider1=wainting_time_rider\n",
    "                walking_distance_rider1=walking_distance_rider\n",
    "        return driver\n",
    "    \n",
    "    ## if there isn't a driver"
   ]
  },
  {
   "cell_type": "markdown",
   "metadata": {},
   "source": [
    "## Simulation 1"
   ]
  },
  {
   "cell_type": "markdown",
   "metadata": {},
   "source": [
    "### creating the environment "
   ]
  },
  {
   "cell_type": "code",
   "execution_count": 6,
   "metadata": {},
   "outputs": [],
   "source": [
    "#### The graph ####\n",
    "\n",
    "Simulation_graph=Graph()\n",
    "\n",
    "### Creating vertex and the meeting points handler ###\n",
    "\n",
    "mps_handler=MeetingPointsHandler()\n",
    "mps_handler.add_meetingpoint(\"node_id1\", \"node_name1\", 1, 1)\n",
    "mps_handler.add_meetingpoint(\"node_id2\", \"node_name2\", 1, 2)\n",
    "mps_handler.add_meetingpoint(\"node_id3\", \"node_name3\", 1, 3)\n",
    "mps_handler.add_meetingpoint(\"node_id4\", \"node_name4\", 1, 4)\n",
    "mps_handler.add_meetingpoint(\"node_id5\", \"node_name5\", 1, 5)\n",
    "mps_handler.add_meetingpoint(\"node_id6\", \"node_name6\", 1, 6)\n",
    "mps_handler.add_meetingpoint(\"node_id7\", \"node_name7\", 1, 7)\n",
    "mps_handler.add_meetingpoint(\"node_id8\", \"node_name8\", 1, 8)\n",
    "mps_handler.add_meetingpoint(\"node_id9\", \"node_name9\", 1, 9)\n",
    "mps_handler.add_meetingpoint(\"node_id10\", \"node_name10\", 1, 10)\n",
    "\n",
    "\n",
    "Simulation_graph.add_mpHandler(mps_handler)\n",
    "\n",
    "#### Adding stations ####\n",
    "Simulation_graph.add_station(\"node_ids1\", \"node_names1\", 0, 1)\n",
    "Simulation_graph.add_station(\"node_ids2\", \"node_names2\", 2, 2)\n",
    "Simulation_graph.add_station(\"node_ids3\", \"node_names3\", 0, 3)\n",
    "Simulation_graph.add_station(\"node_ids4\", \"node_names4\", 0, 4)\n",
    "Simulation_graph.add_station(\"node_ids5\", \"node_names5\", 0, 5)\n",
    "Simulation_graph.add_station(\"node_ids6\", \"node_names6\", 2, 6)\n",
    "Simulation_graph.add_station(\"node_ids7\", \"node_names7\", 2, 7)\n",
    "Simulation_graph.add_station(\"node_ids8\", \"node_names8\", 2, 8)\n",
    "Simulation_graph.add_station(\"node_ids9\", \"node_names9\", 0, 9)\n",
    "Simulation_graph.add_station(\"node_ids10\", \"node_names10\", 2, 10)\n",
    "#### Creating riders and drivers ####\n",
    "\n",
    "List_mps=[]\n",
    "\n",
    "for i in mps_handler.get_meetingpoints():\n",
    "    List_mps.append(i)\n",
    "\n",
    "rider1=Rider(List_mps[0], List_mps[4], time(00,00,00), 'idr1', 'namer1')\n",
    "rider2=Rider(List_mps[1], List_mps[5],time(00,00,00), \"idr2\", \"namer2\")\n",
    "rider3=Rider(List_mps[2], List_mps[6],time(00,00,00), \"idr3\", \"namer3\")\n",
    "rider4=Rider(List_mps[3], List_mps[7],time(00,00,00), \"idr4\", \"namer4\")\n",
    "\n",
    "\n",
    "driver1=Driver(time(00,00,00), \"idd1\", \"named1\")\n",
    "driver2=Driver(time(00,00,00), \"idd2\", \"named2\")\n",
    "driver3=Driver(time(00,00,00), \"idd3\", \"named3\")\n",
    "driver4=Driver(time(00,00,00), \"idd4\", \"named4\")\n",
    "\n",
    "\n",
    "#### setOfPersons ####\n",
    "\n",
    "setOfPersons= SetOfPersons(\"set1\")\n",
    "\n",
    "### adding riders ###\n",
    "\n",
    "setOfPersons.add_passenger(rider1, rider1.get_origin(), rider1.get_destination())\n",
    "setOfPersons.add_passenger(rider2, rider2.get_origin(), rider2.get_destination())\n",
    "setOfPersons.add_passenger(rider3, rider3.get_origin(), rider3.get_destination())\n",
    "setOfPersons.add_passenger(rider4, rider4.get_origin(), rider4.get_destination())\n",
    "\n",
    "### adding drivers ###\n",
    "\n",
    "setOfPersons.add_passenger(driver1)\n",
    "setOfPersons.add_passenger(driver2)\n",
    "setOfPersons.add_passenger(driver3)\n",
    "setOfPersons.add_passenger(driver4)\n",
    "\n"
   ]
  },
  {
   "cell_type": "markdown",
   "metadata": {},
   "source": [
    "### Creating journeys for drivers"
   ]
  },
  {
   "cell_type": "code",
   "execution_count": 7,
   "metadata": {},
   "outputs": [
    {
     "data": {
      "text/plain": [
       "<graphClasses.Trajectory at 0x7ffaeaaa43d0>"
      ]
     },
     "execution_count": 7,
     "metadata": {},
     "output_type": "execute_result"
    }
   ],
   "source": [
    "List_mps1=[]\n",
    "List_stations=[]\n",
    "for i in mps_handler.get_meetingpoints().keys():\n",
    "    List_mps1.append(i)\n",
    "for i in Simulation_graph.get_stations().keys():\n",
    "    List_stations.append(i)\n",
    "driver_journey_generator(mps_handler.get_meetingpoints()[List_mps1[5]], mps_handler.get_meetingpoints()[List_mps1[9]], mps_handler.get_meetingpoints()[List_mps1[6]], mps_handler.get_meetingpoints()[List_mps1[8]],Simulation_graph.get_stations()[List_stations[0]], Simulation_graph.get_stations()[List_stations[9]], driver1, time(00,00,00))\n",
    "driver_journey_generator(mps_handler.get_meetingpoints()[List_mps1[0]], mps_handler.get_meetingpoints()[List_mps1[8]], mps_handler.get_meetingpoints()[List_mps1[1]], mps_handler.get_meetingpoints()[List_mps1[7]],Simulation_graph.get_stations()[List_stations[0]], Simulation_graph.get_stations()[List_stations[8]], driver2, time(00,00,15))\n",
    "driver_journey_generator(mps_handler.get_meetingpoints()[List_mps1[4]], mps_handler.get_meetingpoints()[List_mps1[9]], mps_handler.get_meetingpoints()[List_mps1[5]], mps_handler.get_meetingpoints()[List_mps1[8]],Simulation_graph.get_stations()[List_stations[4]], Simulation_graph.get_stations()[List_stations[9]], driver3, time(00,00,30))\n",
    "driver_journey_generator(mps_handler.get_meetingpoints()[List_mps1[3]], mps_handler.get_meetingpoints()[List_mps1[8]], mps_handler.get_meetingpoints()[List_mps1[4]], mps_handler.get_meetingpoints()[List_mps1[7]],Simulation_graph.get_stations()[List_stations[3]], Simulation_graph.get_stations()[List_stations[8]], driver4, time(00,00,40))"
   ]
  },
  {
   "cell_type": "code",
   "execution_count": 8,
   "metadata": {},
   "outputs": [
    {
     "name": "stdout",
     "output_type": "stream",
     "text": [
      "[1, 1, 1, 1]\n",
      "[1, 2, 3, 4]\n",
      "[1, 1, 1, 1]\n",
      "[5, 6, 7, 8]\n",
      "[1, 1, 1, 1]\n",
      "[6, 1, 5, 4]\n",
      "[1, 1, 1, 1]\n",
      "[10, 9, 10, 9]\n",
      "[1, 1, 1, 1, 1, 1, 1, 1, 1, 1]\n",
      "[1, 2, 3, 4, 5, 6, 7, 8, 9, 10]\n",
      "[0, 2, 0, 0, 0, 2, 2, 2, 0, 2]\n",
      "[1, 2, 3, 4, 5, 6, 7, 8, 9, 10]\n"
     ]
    },
    {
     "data": {
      "image/png": "[encoded data removed]",
      "text/plain": [
       "<Figure size 432x288 with 1 Axes>"
      ]
     },
     "metadata": {
      "needs_background": "light"
     },
     "output_type": "display_data"
    }
   ],
   "source": [
    "origins_riders=[mps_handler.get_meetingpoints()[List_mps[0]],mps_handler.get_meetingpoints()[List_mps[1]],mps_handler.get_meetingpoints()[List_mps[2]],mps_handler.get_meetingpoints()[List_mps[3]]]\n",
    "origins_drivers=[mps_handler.get_meetingpoints()[List_mps[5]],mps_handler.get_meetingpoints()[List_mps[0]],mps_handler.get_meetingpoints()[List_mps[4]],mps_handler.get_meetingpoints()[List_mps[3]]]\n",
    "destinations_riders=[mps_handler.get_meetingpoints()[List_mps[4]],mps_handler.get_meetingpoints()[List_mps[5]],mps_handler.get_meetingpoints()[List_mps[6]],mps_handler.get_meetingpoints()[List_mps[7]]]\n",
    "destinations_drivers=[mps_handler.get_meetingpoints()[List_mps[9]],mps_handler.get_meetingpoints()[List_mps[8]], mps_handler.get_meetingpoints()[List_mps[9]], mps_handler.get_meetingpoints()[List_mps[8]]]\n",
    "List_mps1=[]\n",
    "List_stations=[]\n",
    "for i in mps_handler.get_meetingpoints().keys():\n",
    "    List_mps1.append(mps_handler.get_meetingpoints()[i])\n",
    "for i in Simulation_graph.get_stations().keys():\n",
    "    List_stations.append(Simulation_graph.get_stations()[i])\n",
    "\n",
    "\n",
    "PLOTMap(origins_riders, destinations_riders, origins_drivers, destinations_drivers, List_stations, List_mps1).plot_map()"
   ]
  },
  {
   "cell_type": "code",
   "execution_count": 9,
   "metadata": {},
   "outputs": [
    {
     "data": {
      "text/plain": [
       "['node_id1',\n",
       " 'node_id2',\n",
       " 'node_id3',\n",
       " 'node_id4',\n",
       " 'node_id5',\n",
       " 'node_id6',\n",
       " 'node_id7',\n",
       " 'node_id8',\n",
       " 'node_id9',\n",
       " 'node_id10']"
      ]
     },
     "execution_count": 9,
     "metadata": {},
     "output_type": "execute_result"
    }
   ],
   "source": [
    "List_mps"
   ]
  },
  {
   "cell_type": "code",
   "execution_count": null,
   "metadata": {},
   "outputs": [],
   "source": []
  },
  {
   "cell_type": "code",
   "execution_count": null,
   "metadata": {},
   "outputs": [],
   "source": []
  },
  {
   "cell_type": "code",
   "execution_count": null,
   "metadata": {},
   "outputs": [],
   "source": []
  },
  {
   "cell_type": "code",
   "execution_count": null,
   "metadata": {},
   "outputs": [],
   "source": []
  },
  {
   "cell_type": "code",
   "execution_count": null,
   "metadata": {},
   "outputs": [],
   "source": []
  }
 ],
 "metadata": {
  "kernelspec": {
   "display_name": "Python 3",
   "language": "python",
   "name": "python3"
  },
  "language_info": {
   "codemirror_mode": {
    "name": "ipython",
    "version": 3
   },
   "file_extension": ".py",
   "mimetype": "text/x-python",
   "name": "python",
   "nbconvert_exporter": "python",
   "pygments_lexer": "ipython3",
   "version": "3.7.9"
  }
 },
 "nbformat": 4,
 "nbformat_minor": 4
}
